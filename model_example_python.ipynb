{
 "cells": [
  {
   "cell_type": "markdown",
   "id": "07f4fa86-1947-444d-acdc-942882f783a6",
   "metadata": {},
   "source": [
    "# Climate Model and Climate Data Workshop - Hands-on Session\n",
    "\n",
    "This Jupyter notebook showcases how to use climate model data in Python. However, it is not a Python course!"
   ]
  },
  {
   "cell_type": "markdown",
   "id": "efe51695-6ff9-4205-b752-fb9b697d6fc7",
   "metadata": {},
   "source": [
    "## 1 Loading and Inspecting Data\n",
    "\n",
    "First, packages which we will use later need to be loaded. We will use the `numpy` and `xarray` packages:\n",
    "\n",
    "- https://numpy.org/doc/stable/\n",
    "- https://docs.xarray.dev/en/stable/index.html"
   ]
  },
  {
   "cell_type": "markdown",
   "id": "bf3c1f61-190d-466d-96f8-9a2f645e561b",
   "metadata": {},
   "source": [
    "### Import necessary libraries"
   ]
  },
  {
   "cell_type": "code",
   "execution_count": null,
   "id": "c0659a84-e511-45b5-a05a-602a6a8a87ad",
   "metadata": {},
   "outputs": [],
   "source": [
    "import numpy as np\n",
    "import xarray as xr"
   ]
  },
  {
   "cell_type": "markdown",
   "id": "7c80c88f-4255-4410-bfb0-b3e99d82037b",
   "metadata": {},
   "source": [
    "### Load CMIP6 data for a specific variable and print the dataset"
   ]
  },
  {
   "cell_type": "code",
   "execution_count": null,
   "id": "db86fd6d-ebfa-47d5-9885-b83214c660ce",
   "metadata": {
    "tags": []
   },
   "outputs": [],
   "source": [
    "# read cmip6 data from netcdf\n",
    "inpath='/net/co2/c2sm-data/rlorenz/climate_model_data_workshop'\n",
    "ifile = f'{inpath}/tas_Amon_MPI-ESM1-2-LR_historical_r1i1p1f1_gn_201001-201412.nc'\n",
    "variable_name='tas'\n",
    "with xr.open_dataset(ifile) as ds:\n",
    "    da = ds[variable_name]\n",
    "print(da)"
   ]
  },
  {
   "cell_type": "markdown",
   "id": "c1e15143-16c5-4f4d-a22b-383509d23d22",
   "metadata": {},
   "source": [
    "❓ **Questions**\n",
    "\n",
    "1. How many years are covered in the dataset?\n",
    "2. What is the data frequency?\n",
    "3. How many variables does the dataset contain? "
   ]
  },
  {
   "cell_type": "markdown",
   "id": "d68e55f8-fef8-4b28-9f8f-2bdccb8d73af",
   "metadata": {},
   "source": [
    "### Exercise 1.1\n",
    "\n",
    "Calculate the grid spacing in latitudinal and longitudinal direction."
   ]
  },
  {
   "cell_type": "code",
   "execution_count": null,
   "id": "b33f9814-34d2-465e-99d7-2c2857169ec6",
   "metadata": {},
   "outputs": [],
   "source": [
    "## Calculate grid spacing in latitudinal and longitudinal directions\n",
    "lat_spacing = np.diff(da['lat'])[0].item()  # Assuming a regular grid, get the difference in the first dimension\n",
    "lon_spacing = np.diff(da['lon'])[0].item()  # Assuming a regular grid, get the difference in the second dimension\n",
    "\n",
    "print(f'Grid Spacing - Latitudinal: {lat_spacing:.4f} degrees')\n",
    "print(f'Grid Spacing - Longitudinal: {lon_spacing:.4f} degrees')"
   ]
  },
  {
   "cell_type": "markdown",
   "id": "1d094668-d843-442d-9933-28682c4274e9",
   "metadata": {},
   "source": [
    "## 2 Subsetting Data"
   ]
  },
  {
   "cell_type": "markdown",
   "id": "5681439a-ce57-4cc6-b573-b49d09dbd973",
   "metadata": {},
   "source": [
    "### Subset data for a specific year and print the dataset"
   ]
  },
  {
   "cell_type": "code",
   "execution_count": null,
   "id": "f07a38a2-faef-4a5c-8aa3-7456646c8b32",
   "metadata": {
    "tags": []
   },
   "outputs": [],
   "source": [
    "# read data for one year only\n",
    "with xr.open_dataset(ifile).sel(time='2012') as ds:\n",
    "    da_tim = ds[variable_name]\n",
    "print(da_tim)"
   ]
  },
  {
   "cell_type": "markdown",
   "id": "52621dcc-2717-4b10-864e-d1cb7c0e8536",
   "metadata": {},
   "source": [
    "### Subset data for a specific region using latitude and longitude bounds"
   ]
  },
  {
   "cell_type": "code",
   "execution_count": null,
   "id": "764aa6f0-691d-4980-9a1f-522adb39aa25",
   "metadata": {
    "tags": []
   },
   "outputs": [],
   "source": [
    "# read data but only for polygon\n",
    "min_lon =  5. \n",
    "max_lon = 16. \n",
    "# latitude is -90 to 90\n",
    "min_lat = 45.\n",
    "max_lat = 55.\n",
    "with xr.open_dataset(ifile).sel(lat=slice(min_lat,max_lat), lon=slice(min_lon,max_lon)) as ds:\n",
    "    da_reg = ds[variable_name]\n",
    "print(da_reg)"
   ]
  },
  {
   "cell_type": "markdown",
   "id": "c436af59-5726-4b8f-a95d-705d024b8f4f",
   "metadata": {},
   "source": [
    "### Extract data for a specific region using the regionmask package"
   ]
  },
  {
   "cell_type": "code",
   "execution_count": null,
   "id": "4fe8d55c-ed97-4af8-98cf-c099de3c3c84",
   "metadata": {
    "tags": []
   },
   "outputs": [],
   "source": [
    "# extract certain region using regionmask package, \n",
    "import regionmask\n",
    "print(regionmask.defined_regions.srex)"
   ]
  },
  {
   "cell_type": "code",
   "execution_count": null,
   "id": "4040925e-c285-4338-9877-c3d0bd1fa45f",
   "metadata": {
    "tags": []
   },
   "outputs": [],
   "source": [
    "lon=da['lon']\n",
    "lat=da['lat']"
   ]
  },
  {
   "cell_type": "code",
   "execution_count": null,
   "id": "0f7eb5c0-2c96-4304-865f-a5be697e3dfd",
   "metadata": {
    "tags": []
   },
   "outputs": [],
   "source": [
    "mask = regionmask.defined_regions.srex.mask(lon, lat)\n",
    "CEU_index = regionmask.defined_regions.srex.map_keys(\"C. Europe\")\n",
    "print(f'CEU_index: {CEU_index}')\n",
    "mask_CEU = mask == CEU_index\n",
    "da_CEU = da.isel(time=1).where(mask_CEU)\n",
    "print(da_CEU)"
   ]
  },
  {
   "cell_type": "markdown",
   "id": "36d2ceda-ece2-425a-bac1-d9023d9dd235",
   "metadata": {},
   "source": [
    "## 3 Plotting and Visualization"
   ]
  },
  {
   "cell_type": "code",
   "execution_count": null,
   "id": "2eb37ff6-1f32-4bcb-861c-5a2dabe5bf21",
   "metadata": {
    "tags": []
   },
   "outputs": [],
   "source": [
    "import matplotlib.pyplot as plt\n",
    "import cartopy.crs as ccrs"
   ]
  },
  {
   "cell_type": "markdown",
   "id": "626c53d0-4dd7-4c1c-a471-255dddcb9d6b",
   "metadata": {},
   "source": [
    "### 3.1 Regional Maps"
   ]
  },
  {
   "cell_type": "markdown",
   "id": "fec7c487-2acd-4233-8ff4-2168e737b356",
   "metadata": {},
   "source": [
    "#### Plot the outline of the Central European region and overlay data"
   ]
  },
  {
   "cell_type": "code",
   "execution_count": null,
   "id": "ac6ff64f-2896-40dc-8f70-44022c01c16a",
   "metadata": {
    "tags": []
   },
   "outputs": [],
   "source": [
    "# choose a good projection for regional maps\n",
    "proj=ccrs.LambertConformal(central_longitude=15)\n",
    "\n",
    "# plot the outline of the central European region\n",
    "ax = regionmask.defined_regions.srex.plot(add_ocean=False, resolution='50m',\n",
    "                          projection=proj, add_label=True)\n",
    "\n",
    "da_CEU.plot.pcolormesh('lon', 'lat', ax=ax, transform=ccrs.PlateCarree())\n",
    "\n",
    "ax.coastlines(linewidth=0.5)\n",
    "\n",
    "# fine tune the extent\n",
    "ax.set_extent([-15, 45, 40, 65], crs=ccrs.PlateCarree())"
   ]
  },
  {
   "cell_type": "markdown",
   "id": "646ad827-d781-4b14-a63a-f146b3e4c366",
   "metadata": {},
   "source": [
    "#### Mask data for Switzerland and plot it on a regional map"
   ]
  },
  {
   "cell_type": "code",
   "execution_count": null,
   "id": "815e6b35-3a8e-4224-aea1-6b6f89b74379",
   "metadata": {
    "tags": []
   },
   "outputs": [],
   "source": [
    "CH = regionmask.defined_regions.natural_earth_v5_0_0.countries_110[[\"Switzerland\"]]\n",
    "mask = CH.mask(da.lon, da.lat)\n",
    "da_CH = da.isel(time=1).where(mask==127)"
   ]
  },
  {
   "cell_type": "code",
   "execution_count": null,
   "id": "c59d0ecb-722d-49aa-b02e-10b1c2db9866",
   "metadata": {
    "tags": []
   },
   "outputs": [],
   "source": [
    "# choose a good projection for regional maps\n",
    "proj=ccrs.LambertConformal(central_longitude=15)\n",
    "ax = plt.subplot(111, projection=proj)\n",
    "\n",
    "da_CH.plot.pcolormesh(ax=ax, x=\"lon\", y=\"lat\", transform=ccrs.PlateCarree())\n",
    "regionmask.defined_regions.natural_earth_v5_0_0.countries_110[[\"Switzerland\"]].plot(ax=ax, add_label=False)\n",
    "\n",
    "ax.coastlines(linewidth=0.5)\n",
    "\n",
    "# fine tune the extent\n",
    "ax.set_extent([-15, 45, 40, 65], crs=ccrs.PlateCarree())"
   ]
  },
  {
   "cell_type": "markdown",
   "id": "13a911b1-f39f-4c2b-be2b-022e4fcf6a4c",
   "metadata": {},
   "source": [
    "#### Calculate seasonal means and print the resulting dataset"
   ]
  },
  {
   "cell_type": "code",
   "execution_count": null,
   "id": "155693cb-efda-4050-b260-c77be6f86a75",
   "metadata": {
    "tags": []
   },
   "outputs": [],
   "source": [
    "# read data and calculate seasonal means\n",
    "with xr.open_dataset(ifile) as ds:\n",
    "    ds_seas = ds.groupby(\"time.season\").mean(dim='time')\n",
    "print(ds_seas)"
   ]
  },
  {
   "cell_type": "markdown",
   "id": "5de5faf0-27f2-49bb-9831-94aecc92eee9",
   "metadata": {},
   "source": [
    "### 3.2 Global Maps"
   ]
  },
  {
   "cell_type": "markdown",
   "id": "f0f76ec9-87e7-47e8-a330-2ead232a79cb",
   "metadata": {},
   "source": [
    "#### Plot global map of seasonal mean for a specific season"
   ]
  },
  {
   "cell_type": "code",
   "execution_count": null,
   "id": "d93c5dd3-25a3-45d7-bae6-3fa2f29e231b",
   "metadata": {
    "tags": []
   },
   "outputs": [],
   "source": [
    "# choose a good projection for global maps\n",
    "proj = ccrs.Robinson()\n",
    "\n",
    "ax = plt.subplot(111, projection=proj)\n",
    "\n",
    "ds_seas.sel(season='JJA').tas.plot.pcolormesh(ax=ax, transform=ccrs.PlateCarree())\n",
    "\n",
    "ax.coastlines();"
   ]
  },
  {
   "cell_type": "markdown",
   "id": "1e5e7354-b7f3-409d-adc1-08990272cf24",
   "metadata": {},
   "source": [
    "There are many other things xarray can do, have a look for instance here: https://docs.xarray.dev/en/latest/howdoi.html"
   ]
  }
 ],
 "metadata": {
  "kernelspec": {
   "display_name": "Python (iacpy3_2023)",
   "language": "python",
   "name": "iacpy3_2023"
  },
  "language_info": {
   "codemirror_mode": {
    "name": "ipython",
    "version": 3
   },
   "file_extension": ".py",
   "mimetype": "text/x-python",
   "name": "python",
   "nbconvert_exporter": "python",
   "pygments_lexer": "ipython3",
   "version": "3.11.4"
  }
 },
 "nbformat": 4,
 "nbformat_minor": 5
}
