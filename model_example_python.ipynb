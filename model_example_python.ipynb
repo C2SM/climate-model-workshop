{
 "cells": [
  {
   "cell_type": "markdown",
   "id": "07f4fa86-1947-444d-acdc-942882f783a6",
   "metadata": {},
   "source": [
    "## Climate Model and Climate Data Workshop - Hands-on Session\n",
    "\n",
    "This Jupyter notebook showcases how to use climate model data in python. However, it is not a Python course!\n",
    "\n",
    "We will use the xarray package: https://docs.xarray.dev/en/stable/index.html"
   ]
  },
  {
   "cell_type": "markdown",
   "id": "efe51695-6ff9-4205-b752-fb9b697d6fc7",
   "metadata": {},
   "source": [
    "## Exercise 1: Loading and Inspecting Data\n",
    "\n",
    "First, packages which we will use later need to be loaded."
   ]
  },
  {
   "cell_type": "code",
   "execution_count": null,
   "id": "c0659a84-e511-45b5-a05a-602a6a8a87ad",
   "metadata": {},
   "outputs": [],
   "source": [
    "import numpy as np\n",
    "import xarray as xr"
   ]
  },
  {
   "cell_type": "code",
   "execution_count": null,
   "id": "db86fd6d-ebfa-47d5-9885-b83214c660ce",
   "metadata": {
    "tags": []
   },
   "outputs": [],
   "source": [
    "# read cmip6 data from netcdf\n",
    "inpath='/net/co2/c2sm-data/rlorenz/climate_model_data_workshop'\n",
    "ifile = f'{inpath}/tas_Amon_MPI-ESM1-2-LR_historical_r1i1p1f1_gn_201001-201412.nc'\n",
    "variable_name='tas'\n",
    "with xr.open_dataset(ifile) as ds:\n",
    "    da = ds[variable_name]\n",
    "print(da)"
   ]
  },
  {
   "cell_type": "code",
   "execution_count": null,
   "id": "f07a38a2-faef-4a5c-8aa3-7456646c8b32",
   "metadata": {
    "tags": []
   },
   "outputs": [],
   "source": [
    "# read data for one year only\n",
    "with xr.open_dataset(ifile).sel(time='2012') as ds:\n",
    "    da_tim = ds[variable_name]\n",
    "print(da_tim)"
   ]
  },
  {
   "cell_type": "markdown",
   "id": "1d094668-d843-442d-9933-28682c4274e9",
   "metadata": {},
   "source": [
    "## Exercise 2: Subsetting Data"
   ]
  },
  {
   "cell_type": "code",
   "execution_count": null,
   "id": "764aa6f0-691d-4980-9a1f-522adb39aa25",
   "metadata": {
    "tags": []
   },
   "outputs": [],
   "source": [
    "# read data but only for polygon\n",
    "min_lon =  5. \n",
    "max_lon = 16. \n",
    "# latitude is -90 to 90\n",
    "min_lat = 45.\n",
    "max_lat = 55.\n",
    "with xr.open_dataset(ifile).sel(lat=slice(min_lat,max_lat), lon=slice(min_lon,max_lon)) as ds:\n",
    "    da_reg = ds[variable_name]\n",
    "print(da_reg)"
   ]
  },
  {
   "cell_type": "code",
   "execution_count": null,
   "id": "4fe8d55c-ed97-4af8-98cf-c099de3c3c84",
   "metadata": {
    "tags": []
   },
   "outputs": [],
   "source": [
    "# extract certain region using regionmask package, \n",
    "import regionmask\n",
    "print(regionmask.defined_regions.srex)"
   ]
  },
  {
   "cell_type": "code",
   "execution_count": null,
   "id": "4040925e-c285-4338-9877-c3d0bd1fa45f",
   "metadata": {
    "tags": []
   },
   "outputs": [],
   "source": [
    "lon=da['lon']\n",
    "lat=da['lat']"
   ]
  },
  {
   "cell_type": "code",
   "execution_count": null,
   "id": "0f7eb5c0-2c96-4304-865f-a5be697e3dfd",
   "metadata": {
    "tags": []
   },
   "outputs": [],
   "source": [
    "mask = regionmask.defined_regions.srex.mask(lon, lat)\n",
    "CEU_index = regionmask.defined_regions.srex.map_keys(\"C. Europe\")\n",
    "print(f'CEU_index: {CEU_index}')\n",
    "mask_CEU = mask == CEU_index\n",
    "da_CEU = da.isel(time=1).where(mask_CEU)\n",
    "print(da_CEU)"
   ]
  },
  {
   "cell_type": "markdown",
   "id": "36d2ceda-ece2-425a-bac1-d9023d9dd235",
   "metadata": {},
   "source": [
    "## Exercise 3: Plotting and Visualization"
   ]
  },
  {
   "cell_type": "markdown",
   "id": "626c53d0-4dd7-4c1c-a471-255dddcb9d6b",
   "metadata": {},
   "source": [
    "### 3.1 Regional Maps"
   ]
  },
  {
   "cell_type": "code",
   "execution_count": null,
   "id": "2eb37ff6-1f32-4bcb-861c-5a2dabe5bf21",
   "metadata": {
    "tags": []
   },
   "outputs": [],
   "source": [
    "import matplotlib.pyplot as plt\n",
    "import cartopy.crs as ccrs"
   ]
  },
  {
   "cell_type": "code",
   "execution_count": null,
   "id": "ac6ff64f-2896-40dc-8f70-44022c01c16a",
   "metadata": {
    "tags": []
   },
   "outputs": [],
   "source": [
    "# choose a good projection for regional maps\n",
    "proj=ccrs.LambertConformal(central_longitude=15)\n",
    "\n",
    "# plot the outline of the central European region\n",
    "ax = regionmask.defined_regions.srex.plot(add_ocean=False, resolution='50m',\n",
    "                          projection=proj, add_label=True)\n",
    "\n",
    "da_CEU.plot.pcolormesh('lon', 'lat', ax=ax, transform=ccrs.PlateCarree())\n",
    "\n",
    "ax.coastlines(linewidth=0.5)\n",
    "\n",
    "# fine tune the extent\n",
    "ax.set_extent([-15, 45, 40, 65], crs=ccrs.PlateCarree())"
   ]
  },
  {
   "cell_type": "code",
   "execution_count": null,
   "id": "815e6b35-3a8e-4224-aea1-6b6f89b74379",
   "metadata": {
    "tags": []
   },
   "outputs": [],
   "source": [
    "CH = regionmask.defined_regions.natural_earth_v5_0_0.countries_110[[\"Switzerland\"]]\n",
    "mask = CH.mask(da.lon, da.lat)\n",
    "da_CH = da.isel(time=1).where(mask==127)"
   ]
  },
  {
   "cell_type": "code",
   "execution_count": null,
   "id": "c59d0ecb-722d-49aa-b02e-10b1c2db9866",
   "metadata": {
    "tags": []
   },
   "outputs": [],
   "source": [
    "# choose a good projection for regional maps\n",
    "proj=ccrs.LambertConformal(central_longitude=15)\n",
    "ax = plt.subplot(111, projection=proj)\n",
    "\n",
    "da_CH.plot.pcolormesh(ax=ax, x=\"lon\", y=\"lat\", transform=ccrs.PlateCarree())\n",
    "regionmask.defined_regions.natural_earth_v5_0_0.countries_110[[\"Switzerland\"]].plot(ax=ax, add_label=False)\n",
    "\n",
    "ax.coastlines(linewidth=0.5)\n",
    "\n",
    "# fine tune the extent\n",
    "ax.set_extent([-15, 45, 40, 65], crs=ccrs.PlateCarree())"
   ]
  },
  {
   "cell_type": "code",
   "execution_count": null,
   "id": "155693cb-efda-4050-b260-c77be6f86a75",
   "metadata": {
    "tags": []
   },
   "outputs": [],
   "source": [
    "# read data and calculate seasonal means\n",
    "with xr.open_dataset(ifile) as ds:\n",
    "    ds_seas = ds.groupby(\"time.season\").mean(dim='time')\n",
    "print(ds_seas)"
   ]
  },
  {
   "cell_type": "markdown",
   "id": "5de5faf0-27f2-49bb-9831-94aecc92eee9",
   "metadata": {},
   "source": [
    "### 3.2 Global Maps"
   ]
  },
  {
   "cell_type": "code",
   "execution_count": null,
   "id": "d93c5dd3-25a3-45d7-bae6-3fa2f29e231b",
   "metadata": {
    "tags": []
   },
   "outputs": [],
   "source": [
    "# choose a good projection for global maps\n",
    "proj = ccrs.Robinson()\n",
    "\n",
    "ax = plt.subplot(111, projection=proj)\n",
    "\n",
    "ds_seas.sel(season='JJA').tas.plot.pcolormesh(ax=ax, transform=ccrs.PlateCarree())\n",
    "\n",
    "ax.coastlines();"
   ]
  },
  {
   "cell_type": "markdown",
   "id": "1e5e7354-b7f3-409d-adc1-08990272cf24",
   "metadata": {},
   "source": [
    "There are many other things xarray can do, have a look for instance here: \n",
    "- https://docs.xarray.dev/en/latest/howdoi.html\n",
    "- https://docs.xarray.dev/en/stable/index.html"
   ]
  },
  {
   "cell_type": "code",
   "execution_count": null,
   "id": "1f0b2a30-1a12-446d-8c5a-beac2c525e0b",
   "metadata": {},
   "outputs": [],
   "source": []
  }
 ],
 "metadata": {
  "kernelspec": {
   "display_name": "Python (iacpy3_2023)",
   "language": "python",
   "name": "iacpy3_2023"
  },
  "language_info": {
   "codemirror_mode": {
    "name": "ipython",
    "version": 3
   },
   "file_extension": ".py",
   "mimetype": "text/x-python",
   "name": "python",
   "nbconvert_exporter": "python",
   "pygments_lexer": "ipython3",
   "version": "3.11.6"
  }
 },
 "nbformat": 4,
 "nbformat_minor": 5
}
