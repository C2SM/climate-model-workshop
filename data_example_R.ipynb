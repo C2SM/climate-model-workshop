{
 "cells": [
  {
   "cell_type": "markdown",
   "id": "89781879-bb66-4786-a084-a4388bb2627c",
   "metadata": {},
   "source": [
    "# Climate Model and Climate data workshop, hands-on session\n",
    "\n",
    "This jupyter notebook is part of the climate model and climate data workshop. It showcases how to use climate model data in R. However, it is not a R course!\n",
    "\n",
    "Use kernel Teaching (R SLAC 2021).\n",
    "\n",
    "Here we will use the ncdf4 (https://search.r-project.org/CRAN/refmans/ncdf4/html/00Index.html) library."
   ]
  },
  {
   "cell_type": "markdown",
   "id": "ec4b8b13-9980-468d-b749-26a4e0933e3b",
   "metadata": {},
   "source": [
    "## Loading and inspecting data"
   ]
  },
  {
   "cell_type": "code",
   "execution_count": null,
   "id": "adb1297b-bb66-4d6f-ade6-23f8923c33f2",
   "metadata": {
    "tags": []
   },
   "outputs": [],
   "source": [
    "#-----------------------------------------------------------------------------#\n",
    "# Load libraries\n",
    "#-----------------------------------------------------------------------------#\n",
    "library(ncdf4)"
   ]
  },
  {
   "cell_type": "code",
   "execution_count": null,
   "id": "f2e09982-551d-4bdf-bc6b-6b988bbbce60",
   "metadata": {},
   "outputs": [],
   "source": [
    "# get working directory and load function eurocentric.r\n",
    "WD <- getwd()\n",
    "\n",
    "# define directory where data is\n",
    "indir <- \"/net/co2/c2sm-data/rlorenz/climate_model_data_workshop/\"\n",
    "# define output directory \n",
    "outdir <- paste(WD, \"/data/\", sep=\"\")\n",
    "print(outdir)"
   ]
  },
  {
   "cell_type": "code",
   "execution_count": null,
   "id": "92d135ee-248d-4431-b240-d5aaf06467b7",
   "metadata": {
    "tags": []
   },
   "outputs": [],
   "source": [
    "#-----------------------------------------------------------------------------#\n",
    "# Read data\n",
    "#-----------------------------------------------------------------------------#\n",
    "file <- paste(indir, \"tx_0.25deg_reg_v15.0_flt_2003_CEU.nc\", sep=\"\")\n",
    "ex.nc <- nc_open(file)\n",
    "print(paste(\"The file has\",ex.nc$nvars,\"variables\"))\n",
    "print(ex.nc)"
   ]
  },
  {
   "cell_type": "code",
   "execution_count": null,
   "id": "378543e5-20b0-4428-9eb3-228a49d12c94",
   "metadata": {},
   "outputs": [],
   "source": [
    "# This illustrates how to read all the data from a variable if you do not know the variable name\n",
    "v1 <- ex.nc$var[[1]]\n",
    "data1 <- ncvar_get( ex.nc, v1 )\t# by default, reads ALL the data\n",
    "\n",
    "print(paste(\"Var 1 has name\",v1$name,\"and\",v1$ndim, \"dimensions.\",\n",
    "    \"Dimensions are:\"))\n",
    "print(v1$varsize)"
   ]
  },
  {
   "cell_type": "code",
   "execution_count": null,
   "id": "e0dcbf88-d4af-44cb-b2c5-5f1227edd57d",
   "metadata": {
    "tags": []
   },
   "outputs": [],
   "source": [
    "# Read variable \"tx\" directly if variable name is known\n",
    "tx <- ncvar_get(ex.nc, \"tx\")\n",
    "\n",
    "# Read longitude and latitude dimension\n",
    "lon <- ncvar_get(ex.nc, \"longitude\")\n",
    "lat <- ncvar_get(ex.nc, \"latitude\")\n",
    "nlon <- dim(lon)                 #number of longitudes, do only if needed\n",
    "nlat <- dim(lat)                 #number of latitudes, \n"
   ]
  },
  {
   "cell_type": "code",
   "execution_count": null,
   "id": "8289bff1-c9ca-494f-8f25-02bd50e6240d",
   "metadata": {
    "tags": []
   },
   "outputs": [],
   "source": [
    "#Read time dimension\n",
    "time <- ncvar_get(ex.nc, \"time\")\n",
    "time_units <- ncatt_get(ex.nc, \"time\", \"units\") #time unit, for how defined\n",
    "# extract base date, third bit of time_units \"days since 1950-01-01 00:00\"\n",
    "base_date <- as.character(lapply(strsplit(as.character(time_units$value),\n",
    "                                          split = \" \"), \"[\", 3))\n",
    "time_d <- as.Date(time, format = \"%j\",\n",
    "                  origin = as.Date(base_date)) # define time as date\n",
    "time.y <- format(time_d, \"%Y\") #extract years only from time_d\n",
    "\n",
    "Y.Start <- time.y[1] # first year in timeseries\n",
    "                     # -> can be used as info for output file\n",
    "Y.End <- time.y[length(time.y)] # last year in timeseries"
   ]
  },
  {
   "cell_type": "code",
   "execution_count": null,
   "id": "95f9b0e3-ea26-4238-a32c-0029236ee331",
   "metadata": {
    "tags": []
   },
   "outputs": [],
   "source": [
    "# print start and end years, convert to integers\n",
    "print(Y.Start)\n",
    "print(Y.End)\n",
    "first_year <- strtoi(Y.Start, base = 0L)\n",
    "last_year <- strtoi(Y.End, base = 0L)"
   ]
  },
  {
   "cell_type": "code",
   "execution_count": null,
   "id": "a5bd6f93-0753-4e93-9fea-537f3e358eec",
   "metadata": {
    "tags": []
   },
   "outputs": [],
   "source": [
    "#-----------------------------------------------------------------------------#\n",
    "# Perform calculations, e.g. subset a season or find yearly summer maximum\n",
    "#-----------------------------------------------------------------------------#"
   ]
  },
  {
   "cell_type": "code",
   "execution_count": null,
   "id": "177eee13-933c-481a-bcc0-e53bcc73ee71",
   "metadata": {
    "tags": []
   },
   "outputs": [],
   "source": [
    "#-----------------------------------------------------------------------------#\n",
    "# save as NetCDF output\n",
    "#-----------------------------------------------------------------------------#\n",
    "print(\"save data to netcdf\")\n",
    "\n",
    "#define dimensions for output file\n",
    "dim1 <- ncdim_def(\"longitude\", \"degrees_east\", as.double(lon))\n",
    "dim2 <- ncdim_def(\"latitude\", \"degrees_north\", as.double(lat))\n",
    "dimT <- ncdim_def(\"time\", time_units$value, time, unlim = FALSE)\n",
    "missval <- -9999\n",
    "\n",
    "# define the EMPTY netcdf variable \"TX\"\n",
    "var1 <- ncvar_def(\"tx\", \"degC\", list(dim1, dim2, dimT), missval,\n",
    "                  longname = \"maximum temperature\")\n",
    "\n",
    "# associate the netcdf variable with a netcdf file  \n",
    "file.out <- paste(outdir, \"TX_\", Y.Start, \"-\", Y.End, \".nc\", sep = \"\")\n",
    "print(file.out)\n",
    "# in case the output directory does not exist yet, create it\n",
    "if (!file.exists(outdir)){\n",
    "   dir.create(file.path(outdir), showWarnings = FALSE)\n",
    "}\n",
    "\n",
    "# create the netcdf file\n",
    "nc.ex = nc_create(file.out, list(var1))\n",
    "\n",
    "# put data into file\n",
    "ncvar_put(nc.ex, var1, tx) # one could write a subset of the data using\n",
    "                           # start = c(1, 1, 1),  count = c(nlon, nlat, t2))\n",
    "ncatt_put(nc.ex , var1, '_FillValue', missval )\n",
    "\n",
    "# close the file\n",
    "nc_close(nc.ex)"
   ]
  },
  {
   "cell_type": "code",
   "execution_count": null,
   "id": "53df3b30-2f17-4fd3-b62c-ea323762e4e8",
   "metadata": {},
   "outputs": [],
   "source": []
  }
 ],
 "metadata": {
  "kernelspec": {
   "display_name": "Teaching (R SLAC 2021)",
   "language": "R",
   "name": "teach_r_slac_2021"
  },
  "language_info": {
   "codemirror_mode": "r",
   "file_extension": ".r",
   "mimetype": "text/x-r-source",
   "name": "R",
   "pygments_lexer": "r",
   "version": "4.1.0"
  }
 },
 "nbformat": 4,
 "nbformat_minor": 5
}
