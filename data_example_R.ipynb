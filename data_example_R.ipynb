{
 "cells": [
  {
   "cell_type": "markdown",
   "id": "89781879-bb66-4786-a084-a4388bb2627c",
   "metadata": {},
   "source": [
    "# Climate Model and Climate data workshop, hands-on session\n",
    "\n",
    "This jupyter notebook is part of the climate model and climate data workshop. It showcases how to use climate model data in R. However, it is not a R course!\n",
    "\n",
    "Use kernel Teaching (R SLAC 2021).\n",
    "\n",
    "Here we will use the ncdf4 (https://search.r-project.org/CRAN/refmans/ncdf4/html/00Index.html) library."
   ]
  },
  {
   "cell_type": "markdown",
   "id": "ec4b8b13-9980-468d-b749-26a4e0933e3b",
   "metadata": {},
   "source": [
    "## 1 Loading and inspecting data"
   ]
  },
  {
   "cell_type": "code",
   "execution_count": 1,
   "id": "adb1297b-bb66-4d6f-ade6-23f8923c33f2",
   "metadata": {
    "tags": []
   },
   "outputs": [],
   "source": [
    "#-----------------------------------------------------------------------------#\n",
    "# Load libraries\n",
    "#-----------------------------------------------------------------------------#\n",
    "library(ncdf4)"
   ]
  },
  {
   "cell_type": "code",
   "execution_count": 2,
   "id": "f2e09982-551d-4bdf-bc6b-6b988bbbce60",
   "metadata": {},
   "outputs": [
    {
     "name": "stdout",
     "output_type": "stream",
     "text": [
      "[1] \"/home/rlorenz/scripts/climate_model_data_workshop/data/\"\n"
     ]
    }
   ],
   "source": [
    "# get working directory\n",
    "WD <- getwd()\n",
    "\n",
    "# define directory where data is\n",
    "indir <- \"/net/co2/c2sm-data/rlorenz/climate_model_data_workshop/\"\n",
    "# define output directory in case you want to save any data\n",
    "outdir <- paste(WD, \"/data/\", sep=\"\")\n",
    "print(outdir)"
   ]
  },
  {
   "cell_type": "code",
   "execution_count": 3,
   "id": "92d135ee-248d-4431-b240-d5aaf06467b7",
   "metadata": {
    "tags": []
   },
   "outputs": [
    {
     "name": "stdout",
     "output_type": "stream",
     "text": [
      "[1] \"The file has 5 variables\"\n",
      "File /net/co2/c2sm-data/rlorenz/climate_model_data_workshop/tas_Amon_MPI-ESM1-2-LR_historical_r1i1p1f1_gn_201001-201412.nc (NC_FORMAT_NETCDF4_CLASSIC):\n",
      "\n",
      "     5 variables (excluding dimension variables):\n",
      "        double time_bnds[bnds,time]   \n",
      "        double lat_bnds[bnds,lat]   \n",
      "        double lon_bnds[bnds,lon]   \n",
      "        double height[]   \n",
      "            units: m\n",
      "            axis: Z\n",
      "            positive: up\n",
      "            long_name: height\n",
      "            standard_name: height\n",
      "        float tas[lon,lat,time]   \n",
      "            standard_name: air_temperature\n",
      "            long_name: Near-Surface Air Temperature\n",
      "            comment: near-surface (usually, 2 meter) air temperature\n",
      "            units: K\n",
      "            cell_methods: area: time: mean\n",
      "            cell_measures: area: areacella\n",
      "            history: 2019-09-04T13:47:47Z altered by CMOR: Treated scalar dimension: 'height'. 2019-09-04T13:47:47Z altered by CMOR: replaced missing value flag (-9e+33) and corresponding data with standard missing value (1e+20). 2019-09-04T13:47:48Z altered by CMOR: Inverted axis: lat.\n",
      "            coordinates: height\n",
      "            missing_value: 1.00000002004088e+20\n",
      "            _FillValue: 1.00000002004088e+20\n",
      "\n",
      "     4 dimensions:\n",
      "        time  Size:60   *** is unlimited ***\n",
      "            bounds: time_bnds\n",
      "            units: days since 1850-1-1 00:00:00\n",
      "            calendar: proleptic_gregorian\n",
      "            axis: T\n",
      "            long_name: time\n",
      "            standard_name: time\n",
      "        lat  Size:96\n",
      "            bounds: lat_bnds\n",
      "            units: degrees_north\n",
      "            axis: Y\n",
      "            long_name: Latitude\n",
      "            standard_name: latitude\n",
      "        lon  Size:192\n",
      "            bounds: lon_bnds\n",
      "            units: degrees_east\n",
      "            axis: X\n",
      "            long_name: Longitude\n",
      "            standard_name: longitude\n",
      "        bnds  Size:2\n",
      "[1] \"vobjtovarid4: **** WARNING **** I was asked to get a varid for dimension named bnds BUT this dimension HAS NO DIMVAR! Code will probably fail at this point\"\n",
      "\n",
      "    47 global attributes:\n",
      "        Conventions: CF-1.7 CMIP-6.2\n",
      "        activity_id: CMIP\n",
      "        branch_method: standard\n",
      "        branch_time_in_child: 0\n",
      "        branch_time_in_parent: 0\n",
      "        contact: cmip6-mpi-esm@dkrz.de\n",
      "        creation_date: 2019-09-04T13:47:47Z\n",
      "        data_specs_version: 01.00.30\n",
      "        experiment: all-forcing simulation of the recent past\n",
      "        experiment_id: historical\n",
      "        external_variables: areacella\n",
      "        forcing_index: 1\n",
      "        frequency: mon\n",
      "        further_info_url: https://furtherinfo.es-doc.org/CMIP6.MPI-M.MPI-ESM1-2-LR.historical.none.r1i1p1f1\n",
      "        grid: gn\n",
      "        grid_label: gn\n",
      "        history: 2019-09-04T13:47:47Z ; CMOR rewrote data to be consistent with CMIP6, CF-1.7 CMIP-6.2 and CF standards.\n",
      "        initialization_index: 1\n",
      "        institution: Max Planck Institute for Meteorology, Hamburg 20146, Germany\n",
      "        institution_id: MPI-M\n",
      "        mip_era: CMIP6\n",
      "        nominal_resolution: 250 km\n",
      "        parent_activity_id: CMIP\n",
      "        parent_experiment_id: piControl\n",
      "        parent_mip_era: CMIP6\n",
      "        parent_source_id: MPI-ESM1-2-LR\n",
      "        parent_time_units: days since 1850-1-1 00:00:00\n",
      "        parent_variant_label: r1i1p1f1\n",
      "        physics_index: 1\n",
      "        product: model-output\n",
      "        project_id: CMIP6\n",
      "        realization_index: 1\n",
      "        realm: atmos\n",
      "        references: MPI-ESM: Mauritsen, T. et al. (2019), Developments in the MPI‐M Earth System Model version 1.2 (MPI‐ESM1.2) and Its Response to Increasing CO2, J. Adv. Model. Earth Syst.,11, 998-1038, doi:10.1029/2018MS001400,\n",
      "Mueller, W.A. et al. (2018): A high‐resolution version of the Max Planck Institute Earth System Model MPI‐ESM1.2‐HR. J. Adv. Model. EarthSyst.,10,1383–1413, doi:10.1029/2017MS001217\n",
      "        source: MPI-ESM1.2-LR (2017): \n",
      "aerosol: none, prescribed MACv2-SP\n",
      "atmos: ECHAM6.3 (spectral T63; 192 x 96 longitude/latitude; 47 levels; top level 0.01 hPa)\n",
      "atmosChem: none\n",
      "land: JSBACH3.20\n",
      "landIce: none/prescribed\n",
      "ocean: MPIOM1.63 (bipolar GR1.5, approximately 1.5deg; 256 x 220 longitude/latitude; 40 levels; top grid cell 0-12 m)\n",
      "ocnBgchem: HAMOCC6\n",
      "seaIce: unnamed (thermodynamic (Semtner zero-layer) dynamic (Hibler 79) sea ice model)\n",
      "        source_id: MPI-ESM1-2-LR\n",
      "        source_type: AOGCM\n",
      "        sub_experiment: none\n",
      "        sub_experiment_id: none\n",
      "        table_id: Amon\n",
      "        table_info: Creation Date:(09 May 2019) MD5:e6ef8ececc8f338646ebfb3aeed36bfc\n",
      "        title: MPI-ESM1-2-LR output prepared for CMIP6\n",
      "        variable_id: tas\n",
      "        variant_label: r1i1p1f1\n",
      "        license: CMIP6 model data produced by MPI-M is licensed under a Creative Commons Attribution ShareAlike 4.0 International License (https://creativecommons.org/licenses). Consult https://pcmdi.llnl.gov/CMIP6/TermsOfUse for terms of use governing CMIP6 output, including citation requirements and proper acknowledgment. Further information about this data, including some limitations, can be found via the further_info_url (recorded as a global attribute in this file) and. The data producers and data providers make no warranty, either express or implied, including, but not limited to, warranties of merchantability and fitness for a particular purpose. All liabilities arising from the supply of the information (including any liability arising in negligence) are excluded to the fullest extent permitted by law.\n",
      "        cmor_version: 3.5.0\n",
      "        tracking_id: hdl:21.14100/d1c1110e-89a5-4937-90d4-f07baaec2ca8\n"
     ]
    }
   ],
   "source": [
    "#-----------------------------------------------------------------------------#\n",
    "# Read data\n",
    "#-----------------------------------------------------------------------------#\n",
    "file <- paste(indir, \"tas_Amon_MPI-ESM1-2-LR_historical_r1i1p1f1_gn_201001-201412.nc\", sep=\"\")\n",
    "ex.nc <- nc_open(file)\n",
    "print(paste(\"The file has\",ex.nc$nvars,\"variables\"))\n",
    "print(ex.nc)"
   ]
  },
  {
   "cell_type": "code",
   "execution_count": 4,
   "id": "378543e5-20b0-4428-9eb3-228a49d12c94",
   "metadata": {},
   "outputs": [
    {
     "name": "stdout",
     "output_type": "stream",
     "text": [
      "[1] \"Var 5 has name tas and 3 dimensions. Dimensions are:\"\n",
      "[1] 192  96  60\n"
     ]
    }
   ],
   "source": [
    "# This illustrates how to read all the data from a variable (the 5th) if you do not know the variable name\n",
    "v5 <- ex.nc$var[[5]]\n",
    "data1 <- ncvar_get( ex.nc, v5 )\t# by default, reads ALL the data\n",
    "\n",
    "print(paste(\"Var 5 has name\",v5$name,\"and\",v5$ndim, \"dimensions.\",\n",
    "    \"Dimensions are:\"))\n",
    "print(v5$varsize)"
   ]
  },
  {
   "cell_type": "code",
   "execution_count": 5,
   "id": "378be25c-438f-45a0-8c91-0cd97f39e257",
   "metadata": {},
   "outputs": [
    {
     "name": "stdout",
     "output_type": "stream",
     "text": [
      "[1] 192  96  60\n"
     ]
    }
   ],
   "source": [
    "# Read variable \"tas\" directly if variable name is known\n",
    "tas <- ncvar_get(ex.nc, \"tas\")\n",
    "print(dim(tas))"
   ]
  },
  {
   "cell_type": "markdown",
   "id": "bfb88c70-1a81-48f8-a2c6-9f97bc74ff41",
   "metadata": {},
   "source": [
    "❓ **Questions**\n",
    "\n",
    "1. How many years are covered in the dataset?\n",
    "2. What is the data frequency?\n",
    "3. How many variables does the dataset contain?"
   ]
  },
  {
   "cell_type": "markdown",
   "id": "47ca7864-2f01-4eec-97ad-a00f4170942e",
   "metadata": {},
   "source": [
    "### 1.1 Exercise\n",
    "Calculate the grid spacing in latitudinal and longitudinal direction."
   ]
  },
  {
   "cell_type": "code",
   "execution_count": 6,
   "id": "e0dcbf88-d4af-44cb-b2c5-5f1227edd57d",
   "metadata": {
    "tags": []
   },
   "outputs": [
    {
     "name": "stdout",
     "output_type": "stream",
     "text": [
      "[1] \"The latitudinal spacing is 1.84963755933913\"\n",
      "[1] \"The longitudinal spacing is 1.875\"\n"
     ]
    }
   ],
   "source": [
    "# Read longitude and latitude dimension\n",
    "lon <- ncvar_get(ex.nc, \"lon\")\n",
    "lat <- ncvar_get(ex.nc, \"lat\")\n",
    "\n",
    "lat_spacing <- lat[2] - lat[1] \n",
    "lon_spacing <- lon[2] - lon[1]\n",
    "\n",
    "print(paste(\"The latitudinal spacing is\", lat_spacing))\n",
    "print(paste(\"The longitudinal spacing is\", lon_spacing))"
   ]
  },
  {
   "cell_type": "markdown",
   "id": "3f674634-60fa-44eb-946f-e68fb9c839d1",
   "metadata": {},
   "source": [
    "## 2. Subsetting data"
   ]
  },
  {
   "cell_type": "code",
   "execution_count": 7,
   "id": "8289bff1-c9ca-494f-8f25-02bd50e6240d",
   "metadata": {
    "tags": []
   },
   "outputs": [],
   "source": [
    "#Read time dimension\n",
    "time <- ncvar_get(ex.nc, \"time\")\n",
    "time_units <- ncatt_get(ex.nc, \"time\", \"units\") #time unit, for how defined\n",
    "# extract base date, third bit of time_units \"days since 1950-01-01 00:00\"\n",
    "base_date <- as.character(lapply(strsplit(as.character(time_units$value),\n",
    "                                          split = \" \"), \"[\", 3))\n",
    "time_d <- as.Date(time, format = \"%j\",\n",
    "                  origin = as.Date(base_date)) # define time as date\n",
    "time.y <- format(time_d, \"%Y\") #extract years only from time_d\n",
    "\n",
    "Y.Start <- time.y[1] # first year in timeseries\n",
    "                     # -> can be used as info for output file\n",
    "Y.End <- time.y[length(time.y)] # last year in timeseries"
   ]
  },
  {
   "cell_type": "code",
   "execution_count": 8,
   "id": "95f9b0e3-ea26-4238-a32c-0029236ee331",
   "metadata": {
    "tags": []
   },
   "outputs": [
    {
     "name": "stdout",
     "output_type": "stream",
     "text": [
      "[1] \"2010\"\n",
      "[1] \"2014\"\n"
     ]
    }
   ],
   "source": [
    "# print start and end years, convert to integers\n",
    "print(Y.Start)\n",
    "print(Y.End)\n",
    "first_year <- strtoi(Y.Start, base = 0L)\n",
    "last_year <- strtoi(Y.End, base = 0L)"
   ]
  },
  {
   "cell_type": "markdown",
   "id": "43f072d6-79ae-442d-959d-48c8c5046b8b",
   "metadata": {},
   "source": [
    "### Subset data for a specific year and print the dataset"
   ]
  },
  {
   "cell_type": "markdown",
   "id": "8be7b520-ddff-4fc6-aff5-507dddbc4aae",
   "metadata": {},
   "source": [
    "#### Hint\n",
    "R's which method can be used to find indeces where a specific condition is met, see:\n",
    "\n",
    "- https://stat.ethz.ch/R-manual/R-devel/library/base/html/which.html\n",
    "\n",
    "check ncvar_get and what kind of parameters can be used:\n",
    "- https://www.rdocumentation.org/packages/ncdf4/versions/1.21/topics/ncvar_get"
   ]
  },
  {
   "cell_type": "code",
   "execution_count": 9,
   "id": "08002105-f71c-4f84-a2f2-7fa7147ecc0f",
   "metadata": {},
   "outputs": [
    {
     "name": "stdout",
     "output_type": "stream",
     "text": [
      " [1] 25 26 27 28 29 30 31 32 33 34 35 36\n",
      "[1] 192  96  12\n"
     ]
    }
   ],
   "source": [
    "# Select the time slice you are interested in (e.g., time = 2012)\n",
    "time_index <- which(time.y == 2012)\n",
    "print(time_index)\n",
    "\n",
    "# Read the variable data for the selected time slice\n",
    "variable_name <- \"tas\"\n",
    "data <- ncvar_get(ex.nc, variable_name, start = c(1, 1, time_index[1]), count = c(-1, -1, length(time_index)))\n",
    "print(dim(data))"
   ]
  },
  {
   "cell_type": "code",
   "execution_count": 10,
   "id": "e7f71d98-325c-49c9-81b4-1daada9d7d4a",
   "metadata": {},
   "outputs": [
    {
     "name": "stdout",
     "output_type": "stream",
     "text": [
      "[1] \"save monthly data to netcdf\"\n",
      "[1] \"/home/rlorenz/scripts/climate_model_data_workshop/data/T_2012.nc\"\n"
     ]
    }
   ],
   "source": [
    "# this is an example how a netcdf can be saved from R\n",
    "print(\"save monthly data to netcdf\")\n",
    "\n",
    "#define dimensions for output file\n",
    "dim1 <- ncdim_def(\"longitude\", \"degrees_east\", as.double(lon))\n",
    "dim2 <- ncdim_def(\"latitude\", \"degrees_north\", as.double(lat))\n",
    "dimT <- ncdim_def(\"time\", \"months\", time_index, unlim = FALSE)\n",
    "missval <- -9999\n",
    "\n",
    "# define the EMPTY netcdf variable \"tas\"\n",
    "var1 <- ncvar_def(\"tas\", \"K\", list(dim1, dim2, dimT), missval,\n",
    "                  longname = \"temperature\")\n",
    "\n",
    "# associate the netcdf variable with a netcdf file  \n",
    "file.out <- paste(outdir, \"T_2012.nc\", sep = \"\")\n",
    "print(file.out)\n",
    "# in case the output directory does not exist yet, create it\n",
    "if (!file.exists(outdir)){\n",
    "   dir.create(file.path(outdir), showWarnings = FALSE)\n",
    "}\n",
    "\n",
    "# create the netcdf file\n",
    "nc.ex = nc_create(file.out, list(var1))\n",
    "\n",
    "# put data into file\n",
    "ncvar_put(nc.ex, var1, data) # one could write a subset of the data using\n",
    "                           # start = c(1, 1, 1),  count = c(nlon, nlat, t2))\n",
    "ncatt_put(nc.ex , var1, '_FillValue', missval )"
   ]
  },
  {
   "cell_type": "markdown",
   "id": "5ca5987a-e841-4ee2-8546-b3e31ba3b9dc",
   "metadata": {},
   "source": [
    "#### Exercise 2.1\n",
    "\n",
    "Calculate the average temperature for the year 2012 and print the result."
   ]
  },
  {
   "cell_type": "code",
   "execution_count": 11,
   "id": "9bb7e3ca-8502-4060-bc96-521131b226ca",
   "metadata": {},
   "outputs": [
    {
     "name": "stdout",
     "output_type": "stream",
     "text": [
      "[1] \"The mean temperature for 2012 is 278.95.\"\n"
     ]
    }
   ],
   "source": [
    "data_mean <- mean(data)\n",
    "print(paste(\"The mean temperature for 2012 is \", round(data_mean, digits = 2),\".\", sep=\"\"))"
   ]
  },
  {
   "cell_type": "markdown",
   "id": "bc07b15f-25f9-48f3-859f-2fc4b71562e3",
   "metadata": {},
   "source": [
    "### Subset data for a specific region using latitude and longitude bounds"
   ]
  },
  {
   "cell_type": "code",
   "execution_count": 12,
   "id": "0af0de75-eb4a-4a54-a14a-3abc9be1e862",
   "metadata": {},
   "outputs": [
    {
     "name": "stdout",
     "output_type": "stream",
     "text": [
      "[1] 4 5 6 7 8 9\n",
      "[1] 73 74 75 76 77\n"
     ]
    }
   ],
   "source": [
    "# read data but only for polygon\n",
    "min_lon <-  5. \n",
    "max_lon <- 16. \n",
    "# latitude is -90 to 90\n",
    "min_lat <- 45.\n",
    "max_lat <- 55.\n",
    "\n",
    "# find start indices for these longitudes and latitudes\n",
    "lon_index <- which(lon > min_lon & lon < max_lon)\n",
    "print(lon_index)\n",
    "\n",
    "lat_index <- which(lat > min_lat & lat < max_lat)\n",
    "print(lat_index)"
   ]
  },
  {
   "cell_type": "code",
   "execution_count": 13,
   "id": "810f7fc0-6442-4d21-a16e-8b66d155a4f9",
   "metadata": {},
   "outputs": [
    {
     "name": "stdout",
     "output_type": "stream",
     "text": [
      "         [,1]     [,2]     [,3]     [,4]     [,5]\n",
      "[1,] 274.1919 274.3423 276.3071 276.2251 276.5923\n",
      "[2,] 273.6646 273.3013 274.8833 274.6450 273.9634\n",
      "[3,] 273.9478 272.4243 273.6313 273.5200 272.8560\n",
      "[4,] 274.2153 272.0884 272.8071 273.0962 272.6294\n",
      "[5,] 274.4927 272.1860 272.4341 272.9106 272.8345\n",
      "[6,] 275.4185 272.9810 272.2642 272.7095 273.1665\n"
     ]
    }
   ],
   "source": [
    "# Read the variable data for the selected latitudes and longitudes\n",
    "data_reg <- ncvar_get(ex.nc, variable_name, start = c(lon_index[1], lat_index[1], 1), count = c(length(lon_index), length(lat_index), -1))\n",
    "print(data_reg[,,1])\n",
    "\n",
    "# Close the NetCDF file\n",
    "nc_close(ex.nc)"
   ]
  },
  {
   "cell_type": "markdown",
   "id": "ce594d94-6276-4379-8a9e-5b52e4b4a50a",
   "metadata": {},
   "source": [
    "#### Exercise 2.2\n",
    "\n",
    "Calculate and print the mean temperature for the selected region."
   ]
  },
  {
   "cell_type": "code",
   "execution_count": 14,
   "id": "6a9ac6ae-95ff-4f7e-8ec9-e8f2a8203ded",
   "metadata": {},
   "outputs": [
    {
     "name": "stdout",
     "output_type": "stream",
     "text": [
      "[1] \"The mean temperature for the selected region is 281.03 K.\"\n"
     ]
    }
   ],
   "source": [
    "data_reg_mean <- mean(data_reg)\n",
    "print(paste(\"The mean temperature for the selected region is \", round(data_reg_mean, digits = 2),\" K.\", sep=\"\"))"
   ]
  },
  {
   "cell_type": "markdown",
   "id": "16c31e88-4a1e-46d4-b6a5-ad685c48a439",
   "metadata": {},
   "source": [
    "#### You can also use packages like \"raster\" to work with netcdf data"
   ]
  },
  {
   "cell_type": "code",
   "execution_count": 15,
   "id": "a5bd6f93-0753-4e93-9fea-537f3e358eec",
   "metadata": {
    "tags": []
   },
   "outputs": [
    {
     "name": "stderr",
     "output_type": "stream",
     "text": [
      "Loading required package: sp\n",
      "\n"
     ]
    },
    {
     "data": {
      "text/html": [
       "'/home/rlorenz/scripts/climate_model_data_workshop'"
      ],
      "text/latex": [
       "'/home/rlorenz/scripts/climate\\_model\\_data\\_workshop'"
      ],
      "text/markdown": [
       "'/home/rlorenz/scripts/climate_model_data_workshop'"
      ],
      "text/plain": [
       "[1] \"/home/rlorenz/scripts/climate_model_data_workshop\""
      ]
     },
     "metadata": {},
     "output_type": "display_data"
    }
   ],
   "source": [
    "# load necessary packages\n",
    "library(raster)\n",
    "\n",
    "# get working directory and load function eurocentric.r\n",
    "getwd()\n",
    "source(\"eurocentric.r\")"
   ]
  },
  {
   "cell_type": "code",
   "execution_count": 16,
   "id": "8d658c25-fd30-41ec-9798-5b7ccc75fe0f",
   "metadata": {},
   "outputs": [
    {
     "name": "stdout",
     "output_type": "stream",
     "text": [
      "class      : RasterBrick \n",
      "dimensions : 96, 192, 18432, 60  (nrow, ncol, ncell, nlayers)\n",
      "resolution : 1.875, 1.864677  (x, y)\n",
      "extent     : -0.9375, 359.0625, -89.50451, 89.50451  (xmin, xmax, ymin, ymax)\n",
      "crs        : +proj=longlat +datum=WGS84 \n",
      "source     : memory\n",
      "names      : X2010.01.16, X2010.02.15, X2010.03.16, X2010.04.16, X2010.05.16, X2010.06.16, X2010.07.16, X2010.08.16, X2010.09.16, X2010.10.16, X2010.11.16, X2010.12.16, X2011.01.16, X2011.02.15, X2011.03.16, ... \n",
      "min values :    233.5532,    226.7332,    218.3309,    208.2510,    207.4695,    208.3213,    206.3522,    202.6599,    202.6488,    209.7989,    223.7553,    233.1983,    234.8197,    226.6509,    216.7993, ... \n",
      "max values :    308.7876,    307.1746,    307.7919,    309.8936,    311.8543,    318.3056,    315.9889,    316.0739,    311.2015,    309.7032,    308.0228,    308.1046,    307.2845,    307.4575,    308.0845, ... \n",
      "\n"
     ]
    }
   ],
   "source": [
    "nc_file <- paste(indir, \"tas_Amon_MPI-ESM1-2-LR_historical_r1i1p1f1_gn_201001-201412.nc\", sep=\"\")\n",
    "nc_data <- brick(nc_file) + 0\n",
    "print(nc_data)"
   ]
  },
  {
   "cell_type": "code",
   "execution_count": 17,
   "id": "9aaf4892-6221-4f07-bfc9-00ee4245d727",
   "metadata": {},
   "outputs": [
    {
     "name": "stdout",
     "output_type": "stream",
     "text": [
      "class      : RasterBrick \n",
      "dimensions : 96, 192, 18432, 60  (nrow, ncol, ncell, nlayers)\n",
      "resolution : 1.875, 1.864677  (x, y)\n",
      "extent     : -180.9375, 179.0625, -89.50451, 89.50451  (xmin, xmax, ymin, ymax)\n",
      "crs        : +proj=longlat +datum=WGS84 \n",
      "source     : memory\n",
      "names      : X2010.01.16, X2010.02.15, X2010.03.16, X2010.04.16, X2010.05.16, X2010.06.16, X2010.07.16, X2010.08.16, X2010.09.16, X2010.10.16, X2010.11.16, X2010.12.16, X2011.01.16, X2011.02.15, X2011.03.16, ... \n",
      "min values :    233.5532,    226.7332,    218.3309,    208.2510,    207.4695,    208.3213,    206.3522,    202.6599,    202.6488,    209.7989,    223.7553,    233.1983,    234.8197,    226.6509,    216.7993, ... \n",
      "max values :    308.7876,    307.1746,    307.7919,    309.8936,    311.8543,    318.3056,    315.9889,    316.0739,    311.2015,    309.7032,    308.0228,    308.1046,    307.2845,    307.4575,    308.0845, ... \n",
      "\n"
     ]
    }
   ],
   "source": [
    "nc_data = convert.to.eurocentric(nc_data)\n",
    "print(nc_data)"
   ]
  },
  {
   "cell_type": "markdown",
   "id": "94b4675f-457e-473b-a44a-35aef5c0215f",
   "metadata": {},
   "source": [
    "❓ **Question**\n",
    "\n",
    "What does the function convert.to.eurocentric do?"
   ]
  },
  {
   "cell_type": "code",
   "execution_count": 18,
   "id": "c601b5c4-3ff3-4342-be08-c1411d9665a8",
   "metadata": {},
   "outputs": [
    {
     "name": "stdout",
     "output_type": "stream",
     "text": [
      "[1] \"days since 1850-1-1 00:00:00\"\n",
      "[1] \"1850-1-1\"\n",
      " [1] \"2010-01-16\" \"2010-02-15\" \"2010-03-16\" \"2010-04-16\" \"2010-05-16\"\n",
      " [6] \"2010-06-16\" \"2010-07-16\" \"2010-08-16\" \"2010-09-16\" \"2010-10-16\"\n",
      "[11] \"2010-11-16\" \"2010-12-16\" \"2011-01-16\" \"2011-02-15\" \"2011-03-16\"\n",
      "[16] \"2011-04-16\" \"2011-05-16\" \"2011-06-16\" \"2011-07-16\" \"2011-08-16\"\n",
      "[21] \"2011-09-16\" \"2011-10-16\" \"2011-11-16\" \"2011-12-16\" \"2012-01-16\"\n",
      "[26] \"2012-02-15\" \"2012-03-16\" \"2012-04-16\" \"2012-05-16\" \"2012-06-16\"\n",
      "[31] \"2012-07-16\" \"2012-08-16\" \"2012-09-16\" \"2012-10-16\" \"2012-11-16\"\n",
      "[36] \"2012-12-16\" \"2013-01-16\" \"2013-02-15\" \"2013-03-16\" \"2013-04-16\"\n",
      "[41] \"2013-05-16\" \"2013-06-16\" \"2013-07-16\" \"2013-08-16\" \"2013-09-16\"\n",
      "[46] \"2013-10-16\" \"2013-11-16\" \"2013-12-16\" \"2014-01-16\" \"2014-02-15\"\n",
      "[51] \"2014-03-16\" \"2014-04-16\" \"2014-05-16\" \"2014-06-16\" \"2014-07-16\"\n",
      "[56] \"2014-08-16\" \"2014-09-16\" \"2014-10-16\" \"2014-11-16\" \"2014-12-16\"\n"
     ]
    }
   ],
   "source": [
    "# Extract the time dimension\n",
    "nc <- nc_open(nc_file)\n",
    "\n",
    "time <- ncvar_get(nc, \"time\")\n",
    "time_units <- ncatt_get(nc, \"time\", \"units\")$value\n",
    "print(time_units)\n",
    "nc_close(nc)\n",
    "\n",
    "# extract base date, third bit of time_units \"days since 1950-01-01 00:00\"\n",
    "base_date <- as.character(lapply(strsplit(as.character(time_units),\n",
    "                                          split = \" \"), \"[\", 3))\n",
    "print(base_date)\n",
    "time_dates <- as.Date(time, format = \"%j\",\n",
    "                  origin = as.Date(base_date)) # define time as date\n",
    "print(time_dates)"
   ]
  },
  {
   "cell_type": "code",
   "execution_count": 19,
   "id": "0fffe53a-b41d-47dc-8233-1393285f16b1",
   "metadata": {},
   "outputs": [
    {
     "name": "stdout",
     "output_type": "stream",
     "text": [
      "class      : RasterBrick \n",
      "dimensions : 96, 192, 18432, 60  (nrow, ncol, ncell, nlayers)\n",
      "resolution : 1.875, 1.864677  (x, y)\n",
      "extent     : -180.9375, 179.0625, -89.50451, 89.50451  (xmin, xmax, ymin, ymax)\n",
      "crs        : +proj=longlat +datum=WGS84 \n",
      "source     : memory\n",
      "names      : X2010.01.16, X2010.02.15, X2010.03.16, X2010.04.16, X2010.05.16, X2010.06.16, X2010.07.16, X2010.08.16, X2010.09.16, X2010.10.16, X2010.11.16, X2010.12.16, X2011.01.16, X2011.02.15, X2011.03.16, ... \n",
      "min values :    233.5532,    226.7332,    218.3309,    208.2510,    207.4695,    208.3213,    206.3522,    202.6599,    202.6488,    209.7989,    223.7553,    233.1983,    234.8197,    226.6509,    216.7993, ... \n",
      "max values :    308.7876,    307.1746,    307.7919,    309.8936,    311.8543,    318.3056,    315.9889,    316.0739,    311.2015,    309.7032,    308.0228,    308.1046,    307.2845,    307.4575,    308.0845, ... \n",
      "time       : 2010-01-16, 2014-12-16 (min, max)\n",
      "\n"
     ]
    }
   ],
   "source": [
    "# add time as date to rasterbrick\n",
    "raster_ts <- setZ(nc_data, time_dates)\n",
    "print(raster_ts)"
   ]
  }
 ],
 "metadata": {
  "kernelspec": {
   "display_name": "Teaching (R SLAC 2021)",
   "language": "R",
   "name": "teach_r_slac_2021"
  },
  "language_info": {
   "codemirror_mode": "r",
   "file_extension": ".r",
   "mimetype": "text/x-r-source",
   "name": "R",
   "pygments_lexer": "r",
   "version": "4.1.0"
  }
 },
 "nbformat": 4,
 "nbformat_minor": 5
}
