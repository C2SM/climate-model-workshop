{
 "cells": [
  {
   "cell_type": "markdown",
   "id": "b21e11f2-9943-445c-8752-42bf4a33414f",
   "metadata": {},
   "source": [
    "# Climate Model and Climate data workshop, hands-on session\n",
    "This jupyter notebook is part of the climate model and climate data workshop. It showcases how to use climate model data in R. However, it is not a R course!\n",
    "\n",
    "Use kernel Teaching (R SLAC 2021).\n",
    "\n",
    "Here we will use the ncdf4 (https://search.r-project.org/CRAN/refmans/ncdf4/html/00Index.html) and raster libraries (https://rspatial.org/raster/pkg/index.html)."
   ]
  },
  {
   "cell_type": "markdown",
   "id": "3d6ef75d-c931-4054-9672-b4f2d3f082f2",
   "metadata": {},
   "source": [
    "## Loading and inspecting data"
   ]
  },
  {
   "cell_type": "code",
   "execution_count": null,
   "id": "cedc9b7d-cb0d-41a3-91d3-418b03818834",
   "metadata": {
    "scrolled": true,
    "tags": []
   },
   "outputs": [],
   "source": [
    "library(ncdf4)\n",
    "library(raster)\n",
    "library(rworldmap)\n",
    "#source(\"/home/rlorenz/scripts/climate_model_data_workshop/eurocentric.r\")"
   ]
  },
  {
   "cell_type": "code",
   "execution_count": null,
   "id": "d8af30c9-0773-463a-bcc0-6d908b7b7c23",
   "metadata": {
    "tags": []
   },
   "outputs": [],
   "source": [
    "# get working directory and load function eurocentric.r\n",
    "getwd()\n",
    "source(\"eurocentric.r\")\n",
    "\n",
    "# define directory where data is\n",
    "indir=\"/net/co2/c2sm-data/rlorenz/climate_model_data_workshop/\""
   ]
  },
  {
   "cell_type": "code",
   "execution_count": null,
   "id": "3d996551-1f1d-471b-8d1f-da13122dd7c3",
   "metadata": {
    "tags": []
   },
   "outputs": [],
   "source": [
    "my.rasterbrick1 = brick(paste(indir, \"tas_mon_CanESM2_rcp45_r1i1p1_g025.nc\", sep=\"\")) + 0\n",
    "my.rasterbrick1 = convert.to.eurocentric(my.rasterbrick1)\n",
    "\n",
    "my.rasterbrick2 = brick(paste(indir, \"tas_mon_HadGEM2-ES_rcp45_r1i1p1_g025.nc\", sep=\"\")) + 0\n",
    "my.rasterbrick2 = convert.to.eurocentric(my.rasterbrick2)\n",
    "\n",
    "my.rasterbrick3 = brick(paste(indir, \"tas_mon_IPSL-CM5A-LR_rcp45_r1i1p1_g025.nc\", sep=\"\")) + 0\n",
    "my.rasterbrick3 = convert.to.eurocentric(my.rasterbrick3)\n",
    "\n",
    "my.rasterbrick4 = brick(paste(indir, \"tas_mon_CanESM2_rcp85_r1i1p1_g025.nc\", sep=\"\")) + 0\n",
    "my.rasterbrick4 = convert.to.eurocentric(my.rasterbrick4)\n",
    "\n",
    "my.rasterbrick5 = brick(paste(indir, \"tas_mon_HadGEM2-ES_rcp85_r1i1p1_g025.nc\", sep=\"\")) + 0\n",
    "my.rasterbrick5 = convert.to.eurocentric(my.rasterbrick5)\n",
    "\n",
    "my.rasterbrick6 = brick(paste(indir, \"tas_mon_IPSL-CM5A-LR_rcp85_r1i1p1_g025.nc\", sep=\"\")) + 0\n",
    "my.rasterbrick6 = convert.to.eurocentric(my.rasterbrick6)"
   ]
  },
  {
   "cell_type": "code",
   "execution_count": null,
   "id": "2cbc721c-c944-4be0-9bab-d31e7743d394",
   "metadata": {},
   "outputs": [],
   "source": [
    "# plot data\n",
    "par(mfrow= c(2,3)) #Teilen des Bildes in 2 Zeilen und 3 Spalten\n",
    "\n",
    "plot(my.rasterbrick1, 2700, main=\"CanESM2_rcp45\")\n",
    "lines(coastsCoarse)\n",
    "\n",
    "plot(my.rasterbrick2, 2700, main=\"HadGEM2-ES_rcp45\")\n",
    "lines(coastsCoarse)\n",
    "\n",
    "plot(my.rasterbrick3, 2700, main=\"IPSL-CM5A-LR_rcp45\")\n",
    "lines(coastsCoarse)\n",
    "\n",
    "plot(my.rasterbrick4, 2700, main=\"CanESM2_rcp85\")\n",
    "lines(coastsCoarse)\n",
    "\n",
    "plot(my.rasterbrick5, 2700, main=\"HadGEM2-ES_rcp85\")\n",
    "lines(coastsCoarse)\n",
    "\n",
    "plot(my.rasterbrick6, 2700, main=\"IPSL-CM5A-LR_rcp85\")\n",
    "lines(coastsCoarse)"
   ]
  },
  {
   "cell_type": "code",
   "execution_count": null,
   "id": "a9f01674-a445-45a8-93f1-233961fded95",
   "metadata": {},
   "outputs": [],
   "source": []
  }
 ],
 "metadata": {
  "kernelspec": {
   "display_name": "Teaching (R SLAC 2021)",
   "language": "R",
   "name": "teach_r_slac_2021"
  },
  "language_info": {
   "codemirror_mode": "r",
   "file_extension": ".r",
   "mimetype": "text/x-r-source",
   "name": "R",
   "pygments_lexer": "r",
   "version": "4.1.0"
  }
 },
 "nbformat": 4,
 "nbformat_minor": 5
}
